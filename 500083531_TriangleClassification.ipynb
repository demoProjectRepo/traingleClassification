{
 "cells": [
  {
   "cell_type": "code",
   "execution_count": 4,
   "metadata": {},
   "outputs": [
    {
     "name": "stdout",
     "output_type": "stream",
     "text": [
      "Triangle is not possible using the values 1 2 3\n",
      "No triangle formation\n"
     ]
    }
   ],
   "source": [
    "a=int(input(\"Enter the first side :\"))\n",
    "b=int(input(\"Enter the second side :\"))\n",
    "c=int(input(\"Enter the third side :\"))\n",
    "if (((a+b)<=c) or ((b+c)<=c) or ((c+a)<=b)):\n",
    "    print(\"Triangle is not possible using the values\",a,b,c)\n",
    "    print(\"No triangle formation\")\n",
    "else:\n",
    "    print(\"Triangle is possible using the values\",a,\",\",b,\"&\",c)\n",
    "    print(\"Triangle is formed\")\n"
   ]
  }
 ],
 "metadata": {
  "kernelspec": {
   "display_name": "Python 3.10.0 64-bit",
   "language": "python",
   "name": "python3"
  },
  "language_info": {
   "codemirror_mode": {
    "name": "ipython",
    "version": 3
   },
   "file_extension": ".py",
   "mimetype": "text/x-python",
   "name": "python",
   "nbconvert_exporter": "python",
   "pygments_lexer": "ipython3",
   "version": "3.10.0"
  },
  "orig_nbformat": 4,
  "vscode": {
   "interpreter": {
    "hash": "33839bc7327914e231261e21d74f3b1766a91751470fc8df52b89bffed08b020"
   }
  }
 },
 "nbformat": 4,
 "nbformat_minor": 2
}
